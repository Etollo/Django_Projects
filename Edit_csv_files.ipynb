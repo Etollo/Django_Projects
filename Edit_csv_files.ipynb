{
 "cells": [
  {
   "cell_type": "code",
   "execution_count": 9,
   "metadata": {},
   "outputs": [
    {
     "name": "stdout",
     "output_type": "stream",
     "text": [
      "                     0                     1        2     3\n",
      "0      B52_PIT100/PV.V  10-AUG-18 09:03:40.5  83.9317  Good\n",
      "1      B52_PIT100/PV.V  10-AUG-18 08:03:43.4  83.9367  Good\n",
      "2      B52_PIT100/PV.V  10-AUG-18 07:03:46.2  83.9517  Good\n",
      "3      B52_PIT100/PV.V  10-AUG-18 06:03:48.9  83.9567  Good\n",
      "4      B52_PIT100/PV.V  10-AUG-18 05:03:51.8  83.9717  Good\n",
      "...                ...                   ...      ...   ...\n",
      "35786  B52_PIT100/PV.V  24-AUG-13 11:38:25.7  71.1443  Good\n",
      "35787  B52_PIT100/PV.V  24-AUG-13 11:36:30.1  71.1643  Good\n",
      "35788  B52_PIT100/PV.V  24-AUG-13 11:36:24.6  71.1593   Bad\n",
      "35789  B52_PIT100/PV.V  24-AUG-13 11:36:24.5  71.1593  Good\n",
      "35790  B52_PIT100/PV.V  24-AUG-13 11:25:45.6  71.1943  Good\n",
      "\n",
      "[35791 rows x 4 columns]\n"
     ]
    }
   ],
   "source": [
    "import pandas as pd\n",
    "import numpy as np\n",
    "\n",
    "gk = pd.read_csv('/Users/egor/Django_Projects/B52_PIT100_PV.V.txt', sep=\";\", header=None )\n",
    "print(gk)"
   ]
  },
  {
   "cell_type": "code",
   "execution_count": 13,
   "metadata": {},
   "outputs": [
    {
     "name": "stdout",
     "output_type": "stream",
     "text": [
      "                          1        2     3\n",
      "0      10-AUG-18 09:03:40.5  83.9317  Good\n",
      "1      10-AUG-18 08:03:43.4  83.9367  Good\n",
      "2      10-AUG-18 07:03:46.2  83.9517  Good\n",
      "3      10-AUG-18 06:03:48.9  83.9567  Good\n",
      "4      10-AUG-18 05:03:51.8  83.9717  Good\n",
      "...                     ...      ...   ...\n",
      "35786  24-AUG-13 11:38:25.7  71.1443  Good\n",
      "35787  24-AUG-13 11:36:30.1  71.1643  Good\n",
      "35788  24-AUG-13 11:36:24.6  71.1593   Bad\n",
      "35789  24-AUG-13 11:36:24.5  71.1593  Good\n",
      "35790  24-AUG-13 11:25:45.6  71.1943  Good\n",
      "\n",
      "[35791 rows x 3 columns]\n"
     ]
    }
   ],
   "source": [
    "df = pd.DataFrame(gk)\n",
    "# del df[0]\n",
    "print(df)\n",
    "df.to_csv('B52_PIT100_PV_EDIT.V.txt', sep=\",\", header=False)\n"
   ]
  },
  {
   "cell_type": "code",
   "execution_count": null,
   "metadata": {},
   "outputs": [],
   "source": []
  }
 ],
 "metadata": {
  "kernelspec": {
   "display_name": "Python 3",
   "language": "python",
   "name": "python3"
  },
  "language_info": {
   "codemirror_mode": {
    "name": "ipython",
    "version": 3
   },
   "file_extension": ".py",
   "mimetype": "text/x-python",
   "name": "python",
   "nbconvert_exporter": "python",
   "pygments_lexer": "ipython3",
   "version": "3.7.4"
  }
 },
 "nbformat": 4,
 "nbformat_minor": 2
}
